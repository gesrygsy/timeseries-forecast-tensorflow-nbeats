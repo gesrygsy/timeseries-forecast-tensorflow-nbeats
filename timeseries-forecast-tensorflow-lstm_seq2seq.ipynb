{
  "nbformat": 4,
  "nbformat_minor": 0,
  "metadata": {
    "colab": {
      "provenance": [],
      "gpuType": "T4"
    },
    "kernelspec": {
      "name": "python3",
      "display_name": "Python 3"
    },
    "language_info": {
      "name": "python"
    },
    "accelerator": "GPU",
    "gpuClass": "standard"
  },
  "cells": [
    {
      "cell_type": "code",
      "execution_count": null,
      "metadata": {
        "id": "7UZYEw3nW_Gr"
      },
      "outputs": [],
      "source": [
        "import pandas as pd\n",
        "import matplotlib.pyplot as plt\n",
        "import numpy as np\n",
        "import tensorflow as tf"
      ]
    },
    {
      "cell_type": "code",
      "source": [
        "file_name = './drive/MyDrive/Colab Notebooks/data/Data_wIR.csv'\n",
        "workdir = './drive/MyDrive/Colab Notebooks/model/'\n",
        "data = pd.read_csv(file_name, index_col='Datetime', parse_dates=True, dtype=np.float32)\n",
        "data.info()"
      ],
      "metadata": {
        "colab": {
          "base_uri": "https://localhost:8080/"
        },
        "id": "0CPE6h3YXHze",
        "outputId": "8c2ac394-f18e-4311-d485-ff3df2059760"
      },
      "execution_count": null,
      "outputs": [
        {
          "output_type": "stream",
          "name": "stdout",
          "text": [
            "<class 'pandas.core.frame.DataFrame'>\n",
            "DatetimeIndex: 5474 entries, 2002-05-01 to 2023-04-28\n",
            "Data columns (total 26 columns):\n",
            " #   Column            Non-Null Count  Dtype  \n",
            "---  ------            --------------  -----  \n",
            " 0   AUDUSD_Open       5474 non-null   float32\n",
            " 1   AUDUSD_High       5474 non-null   float32\n",
            " 2   AUDUSD_Low        5474 non-null   float32\n",
            " 3   AUDUSD_Close      5474 non-null   float32\n",
            " 4   AUD_InterestRate  5474 non-null   float32\n",
            " 5   EURUSD_Open       5474 non-null   float32\n",
            " 6   EURUSD_High       5474 non-null   float32\n",
            " 7   EURUSD_Low        5474 non-null   float32\n",
            " 8   EURUSD_Close      5474 non-null   float32\n",
            " 9   EUR_InterestRate  5474 non-null   float32\n",
            " 10  GBPUSD_Open       5474 non-null   float32\n",
            " 11  GBPUSD_High       5474 non-null   float32\n",
            " 12  GBPUSD_Low        5474 non-null   float32\n",
            " 13  GBPUSD_Close      5474 non-null   float32\n",
            " 14  GBP_InterestRate  5474 non-null   float32\n",
            " 15  USDCHF_Open       5474 non-null   float32\n",
            " 16  USDCHF_High       5474 non-null   float32\n",
            " 17  USDCHF_Low        5474 non-null   float32\n",
            " 18  USDCHF_Close      5474 non-null   float32\n",
            " 19  CHF_InterestRate  5474 non-null   float32\n",
            " 20  USDJPY_Open       5474 non-null   float32\n",
            " 21  USDJPY_High       5474 non-null   float32\n",
            " 22  USDJPY_Low        5474 non-null   float32\n",
            " 23  USDJPY_Close      5474 non-null   float32\n",
            " 24  USD_InterestRate  5474 non-null   float32\n",
            " 25  JPY_InterestRate  5474 non-null   float32\n",
            "dtypes: float32(26)\n",
            "memory usage: 598.7 KB\n"
          ]
        }
      ]
    },
    {
      "cell_type": "code",
      "source": [
        "!nvidia-smi"
      ],
      "metadata": {
        "colab": {
          "base_uri": "https://localhost:8080/"
        },
        "id": "odkv2b4iXJ7V",
        "outputId": "8ff3a366-55b2-4c9e-b757-ccd08429cb81"
      },
      "execution_count": null,
      "outputs": [
        {
          "output_type": "stream",
          "name": "stdout",
          "text": [
            "Tue May 23 05:10:47 2023       \n",
            "+-----------------------------------------------------------------------------+\n",
            "| NVIDIA-SMI 525.85.12    Driver Version: 525.85.12    CUDA Version: 12.0     |\n",
            "|-------------------------------+----------------------+----------------------+\n",
            "| GPU  Name        Persistence-M| Bus-Id        Disp.A | Volatile Uncorr. ECC |\n",
            "| Fan  Temp  Perf  Pwr:Usage/Cap|         Memory-Usage | GPU-Util  Compute M. |\n",
            "|                               |                      |               MIG M. |\n",
            "|===============================+======================+======================|\n",
            "|   0  Tesla T4            Off  | 00000000:00:04.0 Off |                    0 |\n",
            "| N/A   46C    P8    10W /  70W |      0MiB / 15360MiB |      0%      Default |\n",
            "|                               |                      |                  N/A |\n",
            "+-------------------------------+----------------------+----------------------+\n",
            "                                                                               \n",
            "+-----------------------------------------------------------------------------+\n",
            "| Processes:                                                                  |\n",
            "|  GPU   GI   CI        PID   Type   Process name                  GPU Memory |\n",
            "|        ID   ID                                                   Usage      |\n",
            "|=============================================================================|\n",
            "|  No running processes found                                                 |\n",
            "+-----------------------------------------------------------------------------+\n"
          ]
        }
      ]
    },
    {
      "cell_type": "code",
      "source": [
        "# N_FUTURE = 1 # predict 1 step at a time\n",
        "N_FUTURE = 5 # predict 5 steps at a time\n",
        "N_PAST = 50 # use 100 days worth of timesteps to predict the horizon\n",
        "N_FEATURES = 6 # 'Open', 'High', 'Low', 'Close', symbol InterestRate x2\n",
        "BATCH_SIZE = 128"
      ],
      "metadata": {
        "id": "u55b0kJSbvCT"
      },
      "execution_count": null,
      "outputs": []
    },
    {
      "cell_type": "code",
      "source": [
        "# Make the train/test splits\n",
        "def make_train_test_splits(windows, labels, test_split=0.2, lags=100, horizon=5):\n",
        "  \"\"\"\n",
        "  Splits matching pairs of windows and labels into train and test splits\n",
        "  \"\"\"\n",
        "  split_size = int(len(windows) * (1-test_split))\n",
        "  train_windows = windows[:split_size]\n",
        "  train_labels = labels[lags:split_size+horizon]\n",
        "  test_windows = windows[split_size-lags+1:-horizon]\n",
        "  test_labels = labels[split_size+1:]\n",
        "  return train_windows, train_labels, test_windows, test_labels"
      ],
      "metadata": {
        "id": "tcBJzU17hXRR"
      },
      "execution_count": null,
      "outputs": []
    },
    {
      "cell_type": "code",
      "source": [
        "# Making multivariate time series data\n",
        "symbol = 'EURUSD'\n",
        "columns = [f'{symbol}_Open', f'{symbol}_High', f'{symbol}_Low', f'{symbol}_Close', f'{symbol[:3]}_InterestRate', f'{symbol[-3:]}_InterestRate']"
      ],
      "metadata": {
        "id": "E9DMy0eGdkcK"
      },
      "execution_count": null,
      "outputs": []
    },
    {
      "cell_type": "code",
      "source": [
        "windows = data[columns]\n",
        "# labels = data[f\"{symbol}_Close\"]\n",
        "labels = data[columns]\n",
        "X_train, y_train, X_val, y_val = make_train_test_splits(windows, labels, lags=N_PAST, horizon=N_FUTURE) # split from '2019-02-21'\n",
        "len(X_train), len(y_train), len(X_val), len(y_val)"
      ],
      "metadata": {
        "colab": {
          "base_uri": "https://localhost:8080/"
        },
        "id": "pz7O5RkX7OfC",
        "outputId": "c74d51e1-f3be-473a-df26-6791ab4fe5bb"
      },
      "execution_count": null,
      "outputs": [
        {
          "output_type": "execute_result",
          "data": {
            "text/plain": [
              "(4379, 4334, 1139, 1094)"
            ]
          },
          "metadata": {},
          "execution_count": 12
        }
      ]
    },
    {
      "cell_type": "code",
      "source": [
        "from sklearn.preprocessing import MinMaxScaler\n",
        "\n",
        "X_train_scaled = X_train.copy()\n",
        "scalers = {}\n",
        "for column in columns:\n",
        "  scaler = MinMaxScaler(feature_range=(-1, 1))\n",
        "  X_train_scaled[column + \"_scaled\"] = scaler.fit_transform(X_train_scaled[column].values.reshape(-1, 1))\n",
        "  X_train_scaled.drop(columns=column, inplace=True)\n",
        "  scalers[column + '_scaler'] = scaler\n",
        "\n",
        "# y_train_scaled = pd.DataFrame(y_train.copy())\n",
        "# y_train_scaled[f'{symbol}_Close' + '_scaled'] = scalers[f'{symbol}_Close_scaler'].transform(y_train_scaled[f'{symbol}_Close'].values.reshape(-1, 1))\n",
        "# y_train_scaled.drop(columns=f'{symbol}_Close', inplace=True)\n",
        "\n",
        "y_train_scaled = y_train.copy()\n",
        "for column in columns:\n",
        "  scaler = scalers[column + '_scaler']\n",
        "  y_train_scaled[column + \"_scaled\"] = scaler.transform(y_train_scaled[column].values.reshape(-1, 1))\n",
        "  y_train_scaled.drop(columns=column, inplace=True)\n",
        "\n",
        "X_val_scaled = X_val.copy()\n",
        "for column in columns:\n",
        "  scaler = scalers[column + '_scaler']\n",
        "  X_val_scaled[column + \"_scaled\"] = scaler.transform(X_val_scaled[column].values.reshape(-1, 1))\n",
        "  X_val_scaled.drop(columns=column, inplace=True)\n",
        "\n",
        "# y_val_scaled = pd.DataFrame(y_val.copy())\n",
        "# y_val_scaled[f'{symbol}_Close' + '_scaled'] = scalers[f'{symbol}_Close_scaler'].transform(y_val_scaled[f'{symbol}_Close'].values.reshape(-1, 1))\n",
        "# y_val_scaled.drop(columns=f'{symbol}_Close', inplace=True)\n",
        "\n",
        "y_val_scaled = y_val.copy()\n",
        "for column in columns:\n",
        "  scaler = scalers[column + '_scaler']\n",
        "  y_val_scaled[column + \"_scaled\"] = scaler.transform(y_val_scaled[column].values.reshape(-1, 1))\n",
        "  y_val_scaled.drop(columns=column, inplace=True)"
      ],
      "metadata": {
        "id": "CVH9E7Fve6UA"
      },
      "execution_count": null,
      "outputs": []
    },
    {
      "cell_type": "code",
      "source": [
        "X_windows = tf.keras.utils.timeseries_dataset_from_array(data=X_train_scaled, targets=None, sequence_length=N_PAST, batch_size=len(X_train))\n",
        "y_labels = tf.keras.utils.timeseries_dataset_from_array(data=y_train_scaled, targets=None, sequence_length=N_FUTURE, batch_size=len(y_train))\n",
        "\n",
        "for element in zip(X_windows, y_labels):\n",
        "  train_windows, train_labels = element\n",
        "  assert np.array_equal(train_windows[0], X_train_scaled[:N_PAST])\n",
        "  assert np.array_equal(train_labels[1], y_train_scaled[1:N_FUTURE+1])\n",
        "  break\n",
        "\n",
        "X_windows = tf.keras.utils.timeseries_dataset_from_array(data=X_val_scaled, targets=None, sequence_length=N_PAST, batch_size=len(X_val))\n",
        "y_labels = tf.keras.utils.timeseries_dataset_from_array(data=y_val_scaled, targets=None, sequence_length=N_FUTURE, batch_size=len(y_val))\n",
        "\n",
        "for element in zip(X_windows, y_labels):\n",
        "  val_windows, val_labels = element\n",
        "  assert np.array_equal(val_windows[0], X_val_scaled[:N_PAST])\n",
        "  assert np.array_equal(val_labels[1], y_val_scaled[1:N_FUTURE+1])\n",
        "  break"
      ],
      "metadata": {
        "id": "PWMhGmljea9B"
      },
      "execution_count": null,
      "outputs": []
    },
    {
      "cell_type": "code",
      "source": [
        "train_windows.shape, train_labels.shape, val_windows.shape, val_labels.shape"
      ],
      "metadata": {
        "colab": {
          "base_uri": "https://localhost:8080/"
        },
        "id": "B8IXntVCfVZV",
        "outputId": "0cc2ed32-5417-4028-af64-2cdc181aaa1a"
      },
      "execution_count": null,
      "outputs": [
        {
          "output_type": "execute_result",
          "data": {
            "text/plain": [
              "(TensorShape([4330, 50, 6]),\n",
              " TensorShape([4330, 5, 6]),\n",
              " TensorShape([1090, 50, 6]),\n",
              " TensorShape([1090, 5, 6]))"
            ]
          },
          "metadata": {},
          "execution_count": 30
        }
      ]
    },
    {
      "cell_type": "markdown",
      "source": [
        "# Create Sequence to Sequence Model with one encoder layer and one decoder layer"
      ],
      "metadata": {
        "id": "vsfhn3TcgTB6"
      }
    },
    {
      "cell_type": "code",
      "source": [
        "from tensorflow.keras import layers"
      ],
      "metadata": {
        "id": "MAxhDi9vhHew"
      },
      "execution_count": null,
      "outputs": []
    },
    {
      "cell_type": "code",
      "source": [
        "from keras.api._v2.keras import activations\n",
        "# E1D1\n",
        "\n",
        "encoder_inputs = layers.Input(shape=(N_PAST, N_FEATURES))\n",
        "encoder = layers.LSTM(100, return_state=True)\n",
        "encoder_outputs = encoder(encoder_inputs)\n",
        "\n",
        "encoder_states = encoder_outputs[1:]\n",
        "\n",
        "decoder_inputs = layers.RepeatVector(N_FUTURE)(encoder_outputs[0])\n",
        "\n",
        "decoder = layers.LSTM(100, return_sequences=True)(decoder_inputs, initial_state=encoder_states)\n",
        "decoder_outputs = layers.TimeDistributed(layers.Dense(N_FEATURES))(decoder)\n",
        "\n",
        "model_e1d1 = tf.keras.models.Model(encoder_inputs, decoder_outputs, name='seq2seq_model')"
      ],
      "metadata": {
        "id": "9y7qSe6_gZW0"
      },
      "execution_count": null,
      "outputs": []
    },
    {
      "cell_type": "code",
      "source": [
        "tf.keras.utils.plot_model(model_e1d1, show_layer_names=False, show_shapes=True)"
      ],
      "metadata": {
        "colab": {
          "base_uri": "https://localhost:8080/",
          "height": 533
        },
        "id": "YWqme1vhiXU2",
        "outputId": "2cd91159-2269-4bbf-af7e-2a34986b5a0e"
      },
      "execution_count": null,
      "outputs": [
        {
          "output_type": "execute_result",
          "data": {
            "image/png": "[encoded data removed]",
            "text/plain": [
              "<IPython.core.display.Image object>"
            ]
          },
          "metadata": {},
          "execution_count": 32
        }
      ]
    },
    {
      "cell_type": "code",
      "source": [
        "model_e1d1.summary()"
      ],
      "metadata": {
        "colab": {
          "base_uri": "https://localhost:8080/"
        },
        "id": "Ijft6bCMigyi",
        "outputId": "cd8d265c-d763-44cc-bf4d-ba85958b30ea"
      },
      "execution_count": null,
      "outputs": [
        {
          "output_type": "stream",
          "name": "stdout",
          "text": [
            "Model: \"seq2seq_model\"\n",
            "__________________________________________________________________________________________________\n",
            " Layer (type)                   Output Shape         Param #     Connected to                     \n",
            "==================================================================================================\n",
            " input_1 (InputLayer)           [(None, 50, 6)]      0           []                               \n",
            "                                                                                                  \n",
            " lstm (LSTM)                    [(None, 100),        42800       ['input_1[0][0]']                \n",
            "                                 (None, 100),                                                     \n",
            "                                 (None, 100)]                                                     \n",
            "                                                                                                  \n",
            " repeat_vector (RepeatVector)   (None, 5, 100)       0           ['lstm[0][0]']                   \n",
            "                                                                                                  \n",
            " lstm_1 (LSTM)                  (None, 5, 100)       80400       ['repeat_vector[0][0]',          \n",
            "                                                                  'lstm[0][1]',                   \n",
            "                                                                  'lstm[0][2]']                   \n",
            "                                                                                                  \n",
            " time_distributed (TimeDistribu  (None, 5, 6)        606         ['lstm_1[0][0]']                 \n",
            " ted)                                                                                             \n",
            "                                                                                                  \n",
            "==================================================================================================\n",
            "Total params: 123,806\n",
            "Trainable params: 123,806\n",
            "Non-trainable params: 0\n",
            "__________________________________________________________________________________________________\n"
          ]
        }
      ]
    },
    {
      "cell_type": "code",
      "source": [
        "import os\n",
        "\n",
        "# Create a function to implement a ModelCheckPoint callback with a specific filename\n",
        "def create_model_checkpoint(model_name, save_path='model_checkpoint'):\n",
        "  return tf.keras.callbacks.ModelCheckpoint(filepath=os.path.join(save_path, model_name), # create filepath to save model\n",
        "                                                                          verbose=0, # only output a limited amount of text\n",
        "                                                                          save_best_only=True) # save only the best model to file"
      ],
      "metadata": {
        "id": "UyI_PPpCm-tp"
      },
      "execution_count": null,
      "outputs": []
    },
    {
      "cell_type": "code",
      "source": [
        "model_e1d1.compile(optimizer=tf.keras.optimizers.Adam(), loss=tf.keras.losses.Huber())\n",
        "\n",
        "history_e1d1 = model_e1d1.fit(\n",
        "    train_windows,\n",
        "    train_labels,\n",
        "    epochs=25,\n",
        "    validation_data=(val_windows, val_labels),\n",
        "    batch_size=32,\n",
        "    verbose=1,\n",
        "    callbacks=[create_model_checkpoint(model_name=model_e1d1.name),\n",
        "                       tf.keras.callbacks.EarlyStopping(monitor='val_loss',\n",
        "                                                                              patience=100,\n",
        "                                                                              restore_best_weights=True),\n",
        "                       tf.keras.callbacks.ReduceLROnPlateau(monitor='val_loss',\n",
        "                                                                                         patience=5,\n",
        "                                                                                         verbose=1)]\n",
        "                        )"
      ],
      "metadata": {
        "colab": {
          "base_uri": "https://localhost:8080/"
        },
        "id": "Q3I3KidpiyFV",
        "outputId": "3fc1a07d-27d0-456a-9981-ed5cb20c0b16"
      },
      "execution_count": null,
      "outputs": [
        {
          "output_type": "stream",
          "name": "stdout",
          "text": [
            "Epoch 1/25\n",
            "133/136 [============================>.] - ETA: 0s - loss: 0.0084"
          ]
        },
        {
          "output_type": "stream",
          "name": "stderr",
          "text": [
            "WARNING:absl:Found untraced functions such as lstm_cell_4_layer_call_fn, lstm_cell_4_layer_call_and_return_conditional_losses, lstm_cell_5_layer_call_fn, lstm_cell_5_layer_call_and_return_conditional_losses while saving (showing 4 of 4). These functions will not be directly callable after loading.\n"
          ]
        },
        {
          "output_type": "stream",
          "name": "stdout",
          "text": [
            "\b\b\b\b\b\b\b\b\b\b\b\b\b\b\b\b\b\b\b\b\b\b\b\b\b\b\b\b\b\b\b\b\b\b\b\b\b\b\b\b\b\b\b\b\b\b\b\b\b\b\b\b\b\b\b\b\b\b\b\b\b\b\b\b\b\r136/136 [==============================] - 13s 63ms/step - loss: 0.0083 - val_loss: 0.0012 - lr: 0.0010\n",
            "Epoch 2/25\n",
            "132/136 [============================>.] - ETA: 0s - loss: 9.2311e-04"
          ]
        },
        {
          "output_type": "stream",
          "name": "stderr",
          "text": [
            "WARNING:absl:Found untraced functions such as lstm_cell_4_layer_call_fn, lstm_cell_4_layer_call_and_return_conditional_losses, lstm_cell_5_layer_call_fn, lstm_cell_5_layer_call_and_return_conditional_losses while saving (showing 4 of 4). These functions will not be directly callable after loading.\n"
          ]
        },
        {
          "output_type": "stream",
          "name": "stdout",
          "text": [
            "\b\b\b\b\b\b\b\b\b\b\b\b\b\b\b\b\b\b\b\b\b\b\b\b\b\b\b\b\b\b\b\b\b\b\b\b\b\b\b\b\b\b\b\b\b\b\b\b\b\b\b\b\b\b\b\b\b\b\b\b\b\b\b\b\b\b\b\b\b\r136/136 [==============================] - 9s 65ms/step - loss: 9.1796e-04 - val_loss: 9.7536e-04 - lr: 0.0010\n",
            "Epoch 3/25\n",
            "135/136 [============================>.] - ETA: 0s - loss: 8.6244e-04"
          ]
        },
        {
          "output_type": "stream",
          "name": "stderr",
          "text": [
            "WARNING:absl:Found untraced functions such as lstm_cell_4_layer_call_fn, lstm_cell_4_layer_call_and_return_conditional_losses, lstm_cell_5_layer_call_fn, lstm_cell_5_layer_call_and_return_conditional_losses while saving (showing 4 of 4). These functions will not be directly callable after loading.\n"
          ]
        },
        {
          "output_type": "stream",
          "name": "stdout",
          "text": [
            "\b\b\b\b\b\b\b\b\b\b\b\b\b\b\b\b\b\b\b\b\b\b\b\b\b\b\b\b\b\b\b\b\b\b\b\b\b\b\b\b\b\b\b\b\b\b\b\b\b\b\b\b\b\b\b\b\b\b\b\b\b\b\b\b\b\b\b\b\b\r136/136 [==============================] - 9s 63ms/step - loss: 8.6291e-04 - val_loss: 8.7932e-04 - lr: 0.0010\n",
            "Epoch 4/25\n",
            "136/136 [==============================] - 1s 8ms/step - loss: 7.8085e-04 - val_loss: 0.0011 - lr: 0.0010\n",
            "Epoch 5/25\n",
            "136/136 [==============================] - 1s 7ms/step - loss: 7.4868e-04 - val_loss: 9.8985e-04 - lr: 0.0010\n",
            "Epoch 6/25\n",
            "131/136 [===========================>..] - ETA: 0s - loss: 7.3463e-04"
          ]
        },
        {
          "output_type": "stream",
          "name": "stderr",
          "text": [
            "WARNING:absl:Found untraced functions such as lstm_cell_4_layer_call_fn, lstm_cell_4_layer_call_and_return_conditional_losses, lstm_cell_5_layer_call_fn, lstm_cell_5_layer_call_and_return_conditional_losses while saving (showing 4 of 4). These functions will not be directly callable after loading.\n"
          ]
        },
        {
          "output_type": "stream",
          "name": "stdout",
          "text": [
            "\b\b\b\b\b\b\b\b\b\b\b\b\b\b\b\b\b\b\b\b\b\b\b\b\b\b\b\b\b\b\b\b\b\b\b\b\b\b\b\b\b\b\b\b\b\b\b\b\b\b\b\b\b\b\b\b\b\b\b\b\b\b\b\b\b\b\b\b\b\r136/136 [==============================] - 8s 59ms/step - loss: 7.3603e-04 - val_loss: 8.5953e-04 - lr: 0.0010\n",
            "Epoch 7/25\n",
            "136/136 [==============================] - 1s 10ms/step - loss: 7.2640e-04 - val_loss: 0.0011 - lr: 0.0010\n",
            "Epoch 8/25\n",
            "136/136 [==============================] - 1s 10ms/step - loss: 7.0531e-04 - val_loss: 9.3689e-04 - lr: 0.0010\n",
            "Epoch 9/25\n",
            "129/136 [===========================>..] - ETA: 0s - loss: 6.7206e-04"
          ]
        },
        {
          "output_type": "stream",
          "name": "stderr",
          "text": [
            "WARNING:absl:Found untraced functions such as lstm_cell_4_layer_call_fn, lstm_cell_4_layer_call_and_return_conditional_losses, lstm_cell_5_layer_call_fn, lstm_cell_5_layer_call_and_return_conditional_losses while saving (showing 4 of 4). These functions will not be directly callable after loading.\n"
          ]
        },
        {
          "output_type": "stream",
          "name": "stdout",
          "text": [
            "\b\b\b\b\b\b\b\b\b\b\b\b\b\b\b\b\b\b\b\b\b\b\b\b\b\b\b\b\b\b\b\b\b\b\b\b\b\b\b\b\b\b\b\b\b\b\b\b\b\b\b\b\b\b\b\b\b\b\b\b\b\b\b\b\b\b\b\b\b\r136/136 [==============================] - 8s 61ms/step - loss: 6.7606e-04 - val_loss: 8.2329e-04 - lr: 0.0010\n",
            "Epoch 10/25\n",
            "136/136 [==============================] - 1s 7ms/step - loss: 6.6254e-04 - val_loss: 8.4857e-04 - lr: 0.0010\n",
            "Epoch 11/25\n",
            "136/136 [==============================] - ETA: 0s - loss: 6.5326e-04"
          ]
        },
        {
          "output_type": "stream",
          "name": "stderr",
          "text": [
            "WARNING:absl:Found untraced functions such as lstm_cell_4_layer_call_fn, lstm_cell_4_layer_call_and_return_conditional_losses, lstm_cell_5_layer_call_fn, lstm_cell_5_layer_call_and_return_conditional_losses while saving (showing 4 of 4). These functions will not be directly callable after loading.\n"
          ]
        },
        {
          "output_type": "stream",
          "name": "stdout",
          "text": [
            "\b\b\b\b\b\b\b\b\b\b\b\b\b\b\b\b\b\b\b\b\b\b\b\b\b\b\b\b\b\b\b\b\b\b\b\b\b\b\b\b\b\b\b\b\b\b\b\b\b\b\b\b\b\b\b\b\b\b\b\b\b\b\b\b\b\b\b\b\b\r136/136 [==============================] - 9s 65ms/step - loss: 6.5326e-04 - val_loss: 7.1921e-04 - lr: 0.0010\n",
            "Epoch 12/25\n",
            "136/136 [==============================] - 1s 8ms/step - loss: 6.5968e-04 - val_loss: 8.8518e-04 - lr: 0.0010\n",
            "Epoch 13/25\n",
            "136/136 [==============================] - 1s 7ms/step - loss: 6.5595e-04 - val_loss: 8.3389e-04 - lr: 0.0010\n",
            "Epoch 14/25\n",
            "136/136 [==============================] - 1s 7ms/step - loss: 6.1246e-04 - val_loss: 9.1318e-04 - lr: 0.0010\n",
            "Epoch 15/25\n",
            "136/136 [==============================] - 1s 10ms/step - loss: 6.4120e-04 - val_loss: 8.1695e-04 - lr: 0.0010\n",
            "Epoch 16/25\n",
            "136/136 [==============================] - ETA: 0s - loss: 6.0720e-04\n",
            "Epoch 16: ReduceLROnPlateau reducing learning rate to 0.00010000000474974513.\n",
            "136/136 [==============================] - 1s 10ms/step - loss: 6.0720e-04 - val_loss: 9.6739e-04 - lr: 0.0010\n",
            "Epoch 17/25\n",
            "136/136 [==============================] - 1s 8ms/step - loss: 5.3176e-04 - val_loss: 8.0459e-04 - lr: 1.0000e-04\n",
            "Epoch 18/25\n",
            "136/136 [==============================] - 1s 10ms/step - loss: 5.2663e-04 - val_loss: 8.0541e-04 - lr: 1.0000e-04\n",
            "Epoch 19/25\n",
            "136/136 [==============================] - 1s 10ms/step - loss: 5.2495e-04 - val_loss: 8.0476e-04 - lr: 1.0000e-04\n",
            "Epoch 20/25\n",
            "136/136 [==============================] - 1s 7ms/step - loss: 5.2787e-04 - val_loss: 8.0334e-04 - lr: 1.0000e-04\n",
            "Epoch 21/25\n",
            "132/136 [============================>.] - ETA: 0s - loss: 5.2798e-04\n",
            "Epoch 21: ReduceLROnPlateau reducing learning rate to 1.0000000474974514e-05.\n",
            "136/136 [==============================] - 1s 7ms/step - loss: 5.2480e-04 - val_loss: 7.8235e-04 - lr: 1.0000e-04\n",
            "Epoch 22/25\n",
            "136/136 [==============================] - 1s 7ms/step - loss: 5.1475e-04 - val_loss: 8.0864e-04 - lr: 1.0000e-05\n",
            "Epoch 23/25\n",
            "136/136 [==============================] - 1s 7ms/step - loss: 5.1486e-04 - val_loss: 8.0302e-04 - lr: 1.0000e-05\n",
            "Epoch 24/25\n",
            "136/136 [==============================] - 1s 7ms/step - loss: 5.1482e-04 - val_loss: 8.0536e-04 - lr: 1.0000e-05\n",
            "Epoch 25/25\n",
            "136/136 [==============================] - 1s 10ms/step - loss: 5.1508e-04 - val_loss: 8.0619e-04 - lr: 1.0000e-05\n"
          ]
        }
      ]
    },
    {
      "cell_type": "code",
      "source": [
        "plt.plot(history_e1d1.history['loss'], color='blue')\n",
        "plt.plot(history_e1d1.history['val_loss'], color='orange')\n",
        "# plt.xlim([500, 800])\n",
        "plt.ylim([0, 0.015])\n",
        "plt.show();"
      ],
      "metadata": {
        "colab": {
          "base_uri": "https://localhost:8080/",
          "height": 430
        },
        "id": "aCT1loslmC_Y",
        "outputId": "e048add9-46a2-4179-d9ef-8c731ad22d04"
      },
      "execution_count": null,
      "outputs": [
        {
          "output_type": "display_data",
          "data": {
            "text/plain": [
              "<Figure size 640x480 with 1 Axes>"
            ],
            "image/png": "[encoded data removed]"
          },
          "metadata": {}
        }
      ]
    },
    {
      "cell_type": "code",
      "source": [
        "model_e1d1 = tf.keras.models.load_model('model_checkpoint/seq2seq_model')\n",
        "model_e1d1.evaluate(val_windows, val_labels)"
      ],
      "metadata": {
        "colab": {
          "base_uri": "https://localhost:8080/"
        },
        "id": "bYrrEWy4oAbM",
        "outputId": "91b1199a-df91-4959-a656-9aff1feb0643"
      },
      "execution_count": null,
      "outputs": [
        {
          "output_type": "stream",
          "name": "stdout",
          "text": [
            "35/35 [==============================] - 1s 4ms/step - loss: 7.1921e-04\n"
          ]
        },
        {
          "output_type": "execute_result",
          "data": {
            "text/plain": [
              "0.0007192118209786713"
            ]
          },
          "metadata": {},
          "execution_count": 36
        }
      ]
    },
    {
      "cell_type": "code",
      "source": [
        "# Convert specific window into dtype float32 and expand_dims before model predictions\n",
        "def window_expand_dims(window):\n",
        "  return tf.expand_dims(tf.cast(window, dtype=tf.float32), axis=0)"
      ],
      "metadata": {
        "id": "6hYi-HRWt4BI"
      },
      "execution_count": null,
      "outputs": []
    },
    {
      "cell_type": "code",
      "source": [
        "forecast = model_e1d1.predict(window_expand_dims(windows.iloc[iters:iters+N_PAST]))\n",
        "forecast"
      ],
      "metadata": {
        "colab": {
          "base_uri": "https://localhost:8080/"
        },
        "id": "_wSelX9wDeqW",
        "outputId": "17156728-bfe5-4ac0-ee9d-cbebde1b6d62"
      },
      "execution_count": null,
      "outputs": [
        {
          "output_type": "stream",
          "name": "stdout",
          "text": [
            "1/1 [==============================] - 0s 24ms/step\n"
          ]
        },
        {
          "output_type": "execute_result",
          "data": {
            "text/plain": [
              "array([[[1.0062354 , 0.82686853, 0.9964702 , 0.9529403 , 3.2618847 ,\n",
              "         0.99008834],\n",
              "        [1.0110044 , 0.79021883, 0.99749476, 0.9542969 , 3.2605724 ,\n",
              "         1.0449528 ],\n",
              "        [1.0297233 , 0.7633196 , 0.98711425, 0.95521814, 3.251591  ,\n",
              "         1.0707641 ],\n",
              "        [1.0278821 , 0.7384199 , 0.97149056, 0.9491069 , 3.2310705 ,\n",
              "         1.0816892 ],\n",
              "        [1.01468   , 0.71655375, 0.9542523 , 0.9434553 , 3.2064214 ,\n",
              "         1.0837063 ]]], dtype=float32)"
            ]
          },
          "metadata": {},
          "execution_count": 78
        }
      ]
    },
    {
      "cell_type": "code",
      "source": [
        "tf.squeeze(forecast[:, :, 0].reshape(-1, 1))"
      ],
      "metadata": {
        "colab": {
          "base_uri": "https://localhost:8080/"
        },
        "id": "sGmXiThHR9sy",
        "outputId": "be54e745-f6e0-4368-89f2-f9d3f2a10c9a"
      },
      "execution_count": null,
      "outputs": [
        {
          "output_type": "execute_result",
          "data": {
            "text/plain": [
              "<tf.Tensor: shape=(5,), dtype=float32, numpy=\n",
              "array([1.0062354, 1.0110044, 1.0297233, 1.0278821, 1.01468  ],\n",
              "      dtype=float32)>"
            ]
          },
          "metadata": {},
          "execution_count": 98
        }
      ]
    },
    {
      "cell_type": "code",
      "source": [
        "for i, column in enumerate(columns):\n",
        "  scaler = scalers[columns[i] + '_scaler']\n",
        "  scaled = scaler.inverse_transform(forecast[:, :, i].reshape(-1, 1))\n",
        "  forecast[:, :, i] = tf.squeeze(scaled)"
      ],
      "metadata": {
        "id": "fCMiRgY7P9JW"
      },
      "execution_count": null,
      "outputs": []
    },
    {
      "cell_type": "code",
      "source": [
        "forecast"
      ],
      "metadata": {
        "colab": {
          "base_uri": "https://localhost:8080/"
        },
        "id": "JrYtkGnIUDBF",
        "outputId": "5d95a71d-d040-4593-8fbb-6f118e31e4c5"
      },
      "execution_count": null,
      "outputs": [
        {
          "output_type": "execute_result",
          "data": {
            "text/plain": [
              "array([[[1.6016791, 1.5435935, 1.5853863, 1.5833068, 9.056505 ,\n",
              "         5.223982 ],\n",
              "        [1.603346 , 1.5308485, 1.5857385, 1.5837793, 9.053717 ,\n",
              "         5.368001 ],\n",
              "        [1.6098882, 1.5214945, 1.5821699, 1.5841002, 9.03463  ,\n",
              "         5.4357557],\n",
              "        [1.6092447, 1.5128355, 1.5767983, 1.5819714, 8.991025 ,\n",
              "         5.4644346],\n",
              "        [1.6046306, 1.5052316, 1.5708718, 1.5800028, 8.938645 ,\n",
              "         5.469729 ]]], dtype=float32)"
            ]
          },
          "metadata": {},
          "execution_count": 100
        }
      ]
    },
    {
      "cell_type": "code",
      "source": [
        "forecast[:, :, :-2]"
      ],
      "metadata": {
        "colab": {
          "base_uri": "https://localhost:8080/"
        },
        "id": "TFw-CvkDRU1r",
        "outputId": "eb201150-5e3a-4d5c-a09a-128393899650"
      },
      "execution_count": null,
      "outputs": [
        {
          "output_type": "execute_result",
          "data": {
            "text/plain": [
              "array([[[1.0062354 , 0.82686853, 0.9964702 , 0.9529403 ],\n",
              "        [1.0110044 , 0.79021883, 0.99749476, 0.9542969 ],\n",
              "        [1.0297233 , 0.7633196 , 0.98711425, 0.95521814],\n",
              "        [1.0278821 , 0.7384199 , 0.97149056, 0.9491069 ],\n",
              "        [1.01468   , 0.71655375, 0.9542523 , 0.9434553 ]]], dtype=float32)"
            ]
          },
          "metadata": {},
          "execution_count": 86
        }
      ]
    },
    {
      "cell_type": "code",
      "source": [
        "np.mean(forecast[:, :, :-2], axis=-1)"
      ],
      "metadata": {
        "colab": {
          "base_uri": "https://localhost:8080/"
        },
        "id": "MQGQ-YqoOjY3",
        "outputId": "354eb107-4671-446a-d469-17b20aa5c3dc"
      },
      "execution_count": null,
      "outputs": [
        {
          "output_type": "execute_result",
          "data": {
            "text/plain": [
              "array([[0.9456286 , 0.9382537 , 0.9338438 , 0.92172486, 0.9072353 ]],\n",
              "      dtype=float32)"
            ]
          },
          "metadata": {},
          "execution_count": 88
        }
      ]
    },
    {
      "cell_type": "code",
      "source": [
        "forecast[0, :, 3].reshape(-1, 1)"
      ],
      "metadata": {
        "colab": {
          "base_uri": "https://localhost:8080/"
        },
        "id": "mWIWkCtVEvY9",
        "outputId": "ba6489f6-972d-46f5-8934-621a6f636a8b"
      },
      "execution_count": null,
      "outputs": [
        {
          "output_type": "execute_result",
          "data": {
            "text/plain": [
              "array([[0.9529403 ],\n",
              "       [0.9542969 ],\n",
              "       [0.95521814],\n",
              "       [0.9491069 ],\n",
              "       [0.9434553 ]], dtype=float32)"
            ]
          },
          "metadata": {},
          "execution_count": 45
        }
      ]
    },
    {
      "cell_type": "code",
      "source": [
        "scaler = scalers[f\"{symbol}_Close_scaler\"]\n",
        "scaler.inverse_transform(forecast[0, :, 3].reshape(-1, 1))"
      ],
      "metadata": {
        "colab": {
          "base_uri": "https://localhost:8080/"
        },
        "id": "LcwwrtO5EWSb",
        "outputId": "50a38fe5-e776-451c-9cfb-60025cf7bcaa"
      },
      "execution_count": null,
      "outputs": [
        {
          "output_type": "execute_result",
          "data": {
            "text/plain": [
              "array([[1.5833068],\n",
              "       [1.5837793],\n",
              "       [1.5841002],\n",
              "       [1.5819714],\n",
              "       [1.5800028]], dtype=float32)"
            ]
          },
          "metadata": {},
          "execution_count": 44
        }
      ]
    },
    {
      "cell_type": "code",
      "source": [
        "from IPython import display\n",
        "import time, timeit\n",
        "import matplotlib.pyplot as plt\n",
        "\n",
        "# Initialize data windows ploting\n",
        "symbol = 'EURUSD'\n",
        "iters = 500\n",
        "# start_step = WINDOW_SIZE + iters\n",
        "interval_steps = 29 # for plot viewing\n",
        "\n",
        "for i in range(100):\n",
        "  # model prediction\n",
        "  forecast = model_e1d1.predict(window_expand_dims(windows.iloc[iters:iters+N_PAST]))\n",
        "  forecast = val_scaler.inverse_transform(forecast)\n",
        "\n",
        "  # prepare ploting\n",
        "  preds_step = N_PAST + iters\n",
        "  start_view = preds_step - interval_steps\n",
        "  end_view = preds_step + interval_steps\n",
        "  forecast = pd.DataFrame(forecast[0, :, 3], index=windows.iloc[list(range(preds_step, preds_step+N_FUTURE))].index, columns=['seq2seq model preds Close'])\n",
        "\n",
        "  # ploting\n",
        "  fig, ax = plt.subplots(nrows=1, ncols=1, figsize=(12, 6))\n",
        "\n",
        "  data[start_view:preds_step][f'{symbol}_Close'].plot(ax=ax, linewidth=2, label='hist_Close', color='blue', alpha=0.5)\n",
        "  data[preds_step:end_view][f'{symbol}_Close'].plot(ax=ax, linewidth=1, label='future_Close', color='blue', alpha=0.5)\n",
        "  data[start_view:preds_step][f'{symbol}_Open'].plot(ax=ax, linewidth=2, label='hist_Open', color='black', alpha=0.5)\n",
        "  data[preds_step:end_view][f'{symbol}_Open'].plot(ax=ax, linewidth=1, label='future_Open', color='black', alpha=0.5)\n",
        "  data[start_view:preds_step][f'{symbol}_High'].plot(ax=ax, linewidth=2, label='hist_High', color='red', alpha=0.5)\n",
        "  data[preds_step:end_view][f'{symbol}_High'].plot(ax=ax, linewidth=1, label='future_High', color='red', alpha=0.5)\n",
        "  data[start_view:preds_step][f'{symbol}_Low'].plot(ax=ax, linewidth=2, label='hist_Low', color='green', alpha=0.5)\n",
        "  data[preds_step:end_view][f'{symbol}_Low'].plot(ax=ax, linewidth=1, label='future_Low', color='green', alpha=0.5)\n",
        "\n",
        "  forecast.plot(ax=ax, linewidth=4, label='seq2seq preds', color='blue', style='o')\n",
        "\n",
        "  display.clear_output(wait=True)\n",
        "  display.display(plt.show())\n",
        "\n",
        "  iters += 1\n",
        "  time.sleep(0.5)"
      ],
      "metadata": {
        "colab": {
          "base_uri": "https://localhost:8080/",
          "height": 703
        },
        "id": "xets2GZQpDyp",
        "outputId": "ea35b28f-69a0-4925-d425-31a6c5b0f12c"
      },
      "execution_count": null,
      "outputs": [
        {
          "output_type": "display_data",
          "data": {
            "text/plain": [
              "<Figure size 1200x600 with 1 Axes>"
            ],
            "image/png": "[encoded data removed]"
          },
          "metadata": {}
        },
        {
          "output_type": "display_data",
          "data": {
            "text/plain": [
              "None"
            ]
          },
          "metadata": {}
        },
        {
          "output_type": "error",
          "ename": "KeyboardInterrupt",
          "evalue": "ignored",
          "traceback": [
            "\u001b[0;31m---------------------------------------------------------------------------\u001b[0m",
            "\u001b[0;31mKeyboardInterrupt\u001b[0m                         Traceback (most recent call last)",
            "\u001b[0;32m<ipython-input-37-7f46716be910>\u001b[0m in \u001b[0;36m<cell line: 11>\u001b[0;34m()\u001b[0m\n\u001b[1;32m     38\u001b[0m \u001b[0;34m\u001b[0m\u001b[0m\n\u001b[1;32m     39\u001b[0m   \u001b[0miters\u001b[0m \u001b[0;34m+=\u001b[0m \u001b[0;36m1\u001b[0m\u001b[0;34m\u001b[0m\u001b[0;34m\u001b[0m\u001b[0m\n\u001b[0;32m---> 40\u001b[0;31m   \u001b[0mtime\u001b[0m\u001b[0;34m.\u001b[0m\u001b[0msleep\u001b[0m\u001b[0;34m(\u001b[0m\u001b[0;36m0.5\u001b[0m\u001b[0;34m)\u001b[0m\u001b[0;34m\u001b[0m\u001b[0;34m\u001b[0m\u001b[0m\n\u001b[0m",
            "\u001b[0;31mKeyboardInterrupt\u001b[0m: "
          ]
        }
      ]
    },
    {
      "cell_type": "code",
      "source": [],
      "metadata": {
        "id": "Z--u00pnwVhf"
      },
      "execution_count": null,
      "outputs": []
    }
  ]
}